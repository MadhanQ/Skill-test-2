{
  "nbformat": 4,
  "nbformat_minor": 0,
  "metadata": {
    "colab": {
      "provenance": [],
      "authorship_tag": "ABX9TyNU8fYD7EOB/yOdu1hQJY28",
      "include_colab_link": true
    },
    "kernelspec": {
      "name": "python3",
      "display_name": "Python 3"
    },
    "language_info": {
      "name": "python"
    }
  },
  "cells": [
    {
      "cell_type": "markdown",
      "metadata": {
        "id": "view-in-github",
        "colab_type": "text"
      },
      "source": [
        "<a href=\"https://colab.research.google.com/github/MadhanQ/Skill-test-2/blob/main/skill_test_2.ipynb\" target=\"_parent\"><img src=\"https://colab.research.google.com/assets/colab-badge.svg\" alt=\"Open In Colab\"/></a>"
      ]
    },
    {
      "cell_type": "code",
      "execution_count": 1,
      "metadata": {
        "colab": {
          "base_uri": "https://localhost:8080/"
        },
        "id": "Jn61PR6VLbR-",
        "outputId": "8c521654-6a25-4fef-d29f-b75ac0e63171"
      },
      "outputs": [
        {
          "output_type": "stream",
          "name": "stdout",
          "text": [
            "Looking in indexes: https://pypi.org/simple, https://us-python.pkg.dev/colab-wheels/public/simple/\n",
            "Requirement already satisfied: matplotlib in /usr/local/lib/python3.7/dist-packages (3.2.2)\n",
            "Requirement already satisfied: python-dateutil>=2.1 in /usr/local/lib/python3.7/dist-packages (from matplotlib) (2.8.2)\n",
            "Requirement already satisfied: numpy>=1.11 in /usr/local/lib/python3.7/dist-packages (from matplotlib) (1.21.6)\n",
            "Requirement already satisfied: pyparsing!=2.0.4,!=2.1.2,!=2.1.6,>=2.0.1 in /usr/local/lib/python3.7/dist-packages (from matplotlib) (3.0.9)\n",
            "Requirement already satisfied: kiwisolver>=1.0.1 in /usr/local/lib/python3.7/dist-packages (from matplotlib) (1.4.4)\n",
            "Requirement already satisfied: cycler>=0.10 in /usr/local/lib/python3.7/dist-packages (from matplotlib) (0.11.0)\n",
            "Requirement already satisfied: typing-extensions in /usr/local/lib/python3.7/dist-packages (from kiwisolver>=1.0.1->matplotlib) (4.1.1)\n",
            "Requirement already satisfied: six>=1.5 in /usr/local/lib/python3.7/dist-packages (from python-dateutil>=2.1->matplotlib) (1.15.0)\n"
          ]
        }
      ],
      "source": [
        "! pip install matplotlib "
      ]
    },
    {
      "cell_type": "code",
      "source": [
        "import pandas as pd\n",
        "import numpy as np\n",
        "import matplotlib.pyplot as plt"
      ],
      "metadata": {
        "id": "69I3xPImL5bB"
      },
      "execution_count": 6,
      "outputs": []
    },
    {
      "cell_type": "code",
      "source": [
        "df=pd.read_excel(r'/content/mtcars.xlsx')\n",
        "print(df)"
      ],
      "metadata": {
        "colab": {
          "base_uri": "https://localhost:8080/"
        },
        "id": "Vjy1gOxZMPBb",
        "outputId": "73ec7023-688d-4c33-d0b0-7b5604272899"
      },
      "execution_count": 5,
      "outputs": [
        {
          "output_type": "stream",
          "name": "stdout",
          "text": [
            "    Sl.no Variables                                        Description  \\\n",
            "0       1       mpg                                   Miles/(US)gallon   \n",
            "1       2       cyl                                Number of cylinders   \n",
            "2       3      disp                               Displacement(cu.in.)   \n",
            "3       4        hp                                   Gross horsepower   \n",
            "4       5      drat                                    Rear axle ratio   \n",
            "5       6        wt                                    Weight(1000lbs)   \n",
            "6       7      qsec  Fastest tie to travel 1/4 mile from standtill ...   \n",
            "7       8        vs                      Engine cylinder configuration   \n",
            "8       9        am                                  Transmission type   \n",
            "9      10      gear                            Number of forward gears   \n",
            "10     11     carbs                              Number of carburetors   \n",
            "\n",
            "                                           Categories  \n",
            "0                                                 NaN  \n",
            "1                                               4,6,8  \n",
            "2                                                 NaN  \n",
            "3                                                 NaN  \n",
            "4                                                 NaN  \n",
            "5                                                 NaN  \n",
            "6                                                 NaN  \n",
            "7                    0,1 (0-V-shape; 1-straight Line)  \n",
            "8                         0,1 (0-automatic; 1-manual)  \n",
            "9   3,4,5 Manual transmissions have either 4 or 5 ...  \n",
            "10                                        1,2,3,4,6,8  \n"
          ]
        }
      ]
    },
    {
      "cell_type": "code",
      "source": [
        "plt.hist('mpg')\n",
        "plt.title(\"Miles/(US) gallon\")"
      ],
      "metadata": {
        "colab": {
          "base_uri": "https://localhost:8080/",
          "height": 298
        },
        "id": "VrPS3596Mkv5",
        "outputId": "af12d569-5436-441f-92a1-72825bfda28a"
      },
      "execution_count": 27,
      "outputs": [
        {
          "output_type": "execute_result",
          "data": {
            "text/plain": [
              "Text(0.5, 1.0, 'Miles/(US) gallon')"
            ]
          },
          "metadata": {},
          "execution_count": 27
        },
        {
          "output_type": "display_data",
          "data": {
            "text/plain": [
              "<Figure size 432x288 with 1 Axes>"
            ],
            "image/png": "[encoded data removed]"
          },
          "metadata": {
            "needs_background": "light"
          }
        }
      ]
    },
    {
      "cell_type": "code",
      "source": [
        "x=['wt']\n",
        "y=['mpgt']\n",
        "plt.scatter(x,y)\n",
        "plt.ylabel('Miles')\n",
        "plt.xlabel('weight')\n",
        "plt.show()"
      ],
      "metadata": {
        "colab": {
          "base_uri": "https://localhost:8080/",
          "height": 279
        },
        "id": "QLQSGRIYQ6G4",
        "outputId": "6e614ff3-f451-4fc7-80da-c6b474ce9639"
      },
      "execution_count": 17,
      "outputs": [
        {
          "output_type": "display_data",
          "data": {
            "text/plain": [
              "<Figure size 432x288 with 1 Axes>"
            ],
            "image/png": "[encoded data removed]"
          },
          "metadata": {
            "needs_background": "light"
          }
        }
      ]
    },
    {
      "cell_type": "code",
      "source": [
        "plt.boxplot([1,2,3,4,5])"
      ],
      "metadata": {
        "colab": {
          "base_uri": "https://localhost:8080/",
          "height": 404
        },
        "id": "YaG77lo0UuEJ",
        "outputId": "70b1d55d-6f55-4618-fbbb-306e501dd617"
      },
      "execution_count": 33,
      "outputs": [
        {
          "output_type": "execute_result",
          "data": {
            "text/plain": [
              "{'whiskers': [<matplotlib.lines.Line2D at 0x7f6e4fe07490>,\n",
              "  <matplotlib.lines.Line2D at 0x7f6e4ffbb9d0>],\n",
              " 'caps': [<matplotlib.lines.Line2D at 0x7f6e4d04f1d0>,\n",
              "  <matplotlib.lines.Line2D at 0x7f6e4d04fed0>],\n",
              " 'boxes': [<matplotlib.lines.Line2D at 0x7f6e4fe07950>],\n",
              " 'medians': [<matplotlib.lines.Line2D at 0x7f6e4d267490>],\n",
              " 'fliers': [<matplotlib.lines.Line2D at 0x7f6e4d295d50>],\n",
              " 'means': []}"
            ]
          },
          "metadata": {},
          "execution_count": 33
        },
        {
          "output_type": "display_data",
          "data": {
            "text/plain": [
              "<Figure size 432x288 with 1 Axes>"
            ],
            "image/png": "[encoded data removed]"
          },
          "metadata": {
            "needs_background": "light"
          }
        }
      ]
    },
    {
      "cell_type": "code",
      "source": [
        "plt.bar('an',color='red',width=4,height=5)\n",
        "plt.title(\"frequency\")\n",
        "plt.xlabel(\"Transmission\")"
      ],
      "metadata": {
        "colab": {
          "base_uri": "https://localhost:8080/",
          "height": 312
        },
        "id": "KGgQbO7hVWaD",
        "outputId": "385bbd2f-c4a6-4d17-f2a5-fe7fe1b4da8b"
      },
      "execution_count": 26,
      "outputs": [
        {
          "output_type": "execute_result",
          "data": {
            "text/plain": [
              "Text(0.5, 0, 'Transmission')"
            ]
          },
          "metadata": {},
          "execution_count": 26
        },
        {
          "output_type": "display_data",
          "data": {
            "text/plain": [
              "<Figure size 432x288 with 1 Axes>"
            ],
            "image/png": "[encoded data removed]"
          },
          "metadata": {
            "needs_background": "light"
          }
        }
      ]
    }
  ]
}